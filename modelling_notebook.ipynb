{
 "cells": [
  {
   "cell_type": "code",
   "execution_count": null,
   "metadata": {},
   "outputs": [],
   "source": [
    "import torch, cv2, copy\n",
    "import numpy as np\n",
    "import torch.nn as nn\n",
    "from torch.utils.data import DataLoader\n",
    "from typing import Iterable\n",
    "from torchvision.models.resnet import BasicBlock, Bottleneck\n",
    "from data_preparation.dataset import FrameDataset\n",
    "from model.architecture import GWDetectionNET\n",
    "from metrics.criterion import GWDetectionCriterion\n",
    "from pipelines.train import TrainingPipeline\n",
    "from matplotlib import pyplot as plt"
   ]
  },
  {
   "cell_type": "code",
   "execution_count": null,
   "metadata": {},
   "outputs": [],
   "source": [
    "def prepare_img_and_bbox(\n",
    "        img: torch.Tensor, \n",
    "        bbox: torch.Tensor, \n",
    "        scaled_bbox: bool=True,\n",
    "        xy_centered: bool=True):\n",
    "    img = (img * 255).type(torch.uint8).squeeze().numpy()\n",
    "\n",
    "    if bbox.shape[0] == 4:\n",
    "        x, y, w, h = bbox\n",
    "    else:\n",
    "        _, x, y, w, h = bbox\n",
    "\n",
    "    if scaled_bbox:\n",
    "        x *= img.shape[1]\n",
    "        y *= img.shape[0]\n",
    "        w *= img.shape[1]\n",
    "        h *= img.shape[0]\n",
    "\n",
    "    if xy_centered:\n",
    "        x = x-(w/2)\n",
    "        y = y-(h/2)\n",
    "    bbox = np.array([x, y, w, h]).astype(int)\n",
    "    return img, bbox\n",
    "\n",
    "def draw_bbox(img :np.ndarray, bbox: Iterable[int], single_channel: bool=True):\n",
    "    if bbox.shape[0] == 4:\n",
    "        x, y, w, h = bbox\n",
    "    else:\n",
    "        _, x, y, w, h = bbox\n",
    "    ch = (0, 200, 90) if not single_channel else (255)\n",
    "    return cv2.rectangle(img, (x, y), (x+w, y+h), ch, 2)\n"
   ]
  },
  {
   "cell_type": "code",
   "execution_count": null,
   "metadata": {},
   "outputs": [],
   "source": [
    "train_data_path = \"data/Train_data\"\n",
    "validation_data_path = \"data/Validation_data\"\n",
    "test_data_path = \"data/Test_data\"\n",
    "img_size = (224, 224)\n",
    "\n",
    "train_dataset = FrameDataset(train_data_path, grayscale=True, img_loc=\"png\", size=img_size)\n",
    "validation_dataset = FrameDataset(validation_data_path, grayscale=True, img_loc=\"Image\", size=img_size)\n",
    "test_dataset = FrameDataset(test_data_path, grayscale=True, img_loc=\"Image\", size=img_size)"
   ]
  },
  {
   "cell_type": "code",
   "execution_count": null,
   "metadata": {},
   "outputs": [],
   "source": [
    "fig, axs = plt.subplots(1, 3, figsize=(20, 5))\n",
    "train_sample_img, train_sample_bbox = train_dataset[0]\n",
    "validation_sample_img, validation_sample_bbox = validation_dataset[0]\n",
    "test_sample_img, test_sample_bbox = test_dataset[0]\n",
    "\n",
    "print(f\"Sample Images (shape: {train_sample_img.shape})\")\n",
    "axs[0].imshow(train_sample_img.squeeze(), cmap=\"gray\")\n",
    "axs[1].imshow(validation_sample_img.squeeze(), cmap=\"gray\")\n",
    "axs[2].imshow(test_sample_img.squeeze(), cmap=\"gray\")\n",
    "plt.show()\n",
    "\n",
    "train_sample_img, train_sample_bbox = prepare_img_and_bbox(train_sample_img, train_sample_bbox)\n",
    "validation_sample_img, validation_sample_bbox = prepare_img_and_bbox(validation_sample_img, validation_sample_bbox)\n",
    "test_sample_img, test_sample_bbox = prepare_img_and_bbox(test_sample_img, test_sample_bbox)\n",
    "\n",
    "\n",
    "bbox_train_sample_img = draw_bbox(copy.deepcopy(train_sample_img), train_sample_bbox)\n",
    "bbox_validation_sample_img = draw_bbox(copy.deepcopy(validation_sample_img), validation_sample_bbox)\n",
    "bbox_test_sample_img = draw_bbox(copy.deepcopy(test_sample_img), test_sample_bbox)\n",
    "\n",
    "print(\"\\nSample Images with Bounding Boxes\")\n",
    "fig, axs = plt.subplots(1, 3, figsize=(20, 5))\n",
    "axs[0].imshow(bbox_train_sample_img, cmap=\"gray\")\n",
    "axs[1].imshow(bbox_validation_sample_img, cmap=\"gray\")\n",
    "axs[2].imshow(bbox_test_sample_img, cmap=\"gray\")\n",
    "plt.show()\n"
   ]
  },
  {
   "cell_type": "code",
   "execution_count": null,
   "metadata": {},
   "outputs": [],
   "source": [
    "batch_size = 16\n",
    "num_workers = 4\n",
    "\n",
    "train_dataloader = DataLoader(train_dataset, batch_size=batch_size, num_workers=num_workers, shuffle=True)\n",
    "validation_dataloader = DataLoader(validation_dataset, batch_size=batch_size, num_workers=num_workers, shuffle=True)\n",
    "test_dataloader = DataLoader(test_dataset, batch_size=batch_size, num_workers=num_workers, shuffle=True)"
   ]
  },
  {
   "cell_type": "code",
   "execution_count": null,
   "metadata": {},
   "outputs": [],
   "source": [
    "# model params\n",
    "in_channels = 1\n",
    "n_classes = 0\n",
    "dropout = 0.3\n",
    "block = BasicBlock\n",
    "block_layers = [2, 2, 2, 2]\n",
    "pretrained_backbone = None #resnet18\n",
    "last_fmap_ch = 512\n",
    "anchor_path = \"anchors/anchors.json\"\n",
    "\n",
    "# loss function params\n",
    "iou_threshold = 0.5\n",
    "\n",
    "# optimizer params\n",
    "lr = 1e-4\n",
    "min_lr = 1e-6\n",
    "weight_decay = 7e-6\n",
    "betas = (0.9, 0.9999)\n",
    "T_0 = 40\n",
    "T_mult = 2\n",
    "\n",
    "# pipeline params\n",
    "device = \"cuda\" if torch.cuda.is_available() else \"cpu\"\n",
    "model_folder = \"saved_model\"\n",
    "model_name = f\"gw_detection_model.pth.tar\""
   ]
  },
  {
   "cell_type": "code",
   "execution_count": null,
   "metadata": {},
   "outputs": [],
   "source": [
    "torch.manual_seed(3407)\n",
    "torch.cuda.manual_seed(3407)\n",
    "np.random.seed(3407)\n",
    "torch.backends.cudnn.deterministic = True\n",
    "torch.backends.cudnn.benchmark = False"
   ]
  },
  {
   "cell_type": "code",
   "execution_count": null,
   "metadata": {},
   "outputs": [],
   "source": [
    "model = GWDetectionNET(\n",
    "    in_channels, \n",
    "    img_size=img_size,\n",
    "    anchors_path=anchor_path, \n",
    "    n_classes=n_classes, \n",
    "    block=block, \n",
    "    block_layers=block_layers,\n",
    "    pretrained_resnet_backbone=pretrained_backbone, \n",
    "    last_fmap_ch=last_fmap_ch)\n",
    "lossfunc = GWDetectionCriterion(iou_threshold=iou_threshold)\n",
    "optimizer = torch.optim.Adam(model.parameters(), lr=lr, betas=betas, weight_decay=weight_decay)\n",
    "\n",
    "# training pipeline\n",
    "train_pipeline = TrainingPipeline(\n",
    "    model, \n",
    "    lossfunc, \n",
    "    optimizer, \n",
    "    device=device, \n",
    "    dirname=model_folder, \n",
    "    filename=model_name,\n",
    "    save_metrics=True\n",
    ")\n",
    "\n",
    "# lr scheduler\n",
    "lr_scheduler = torch.optim.lr_scheduler.CosineAnnealingWarmRestarts(\n",
    "    train_pipeline.optimizer, T_0=T_0, T_mult=T_mult, eta_min=min_lr, verbose=True,\n",
    ")"
   ]
  },
  {
   "cell_type": "code",
   "execution_count": 9,
   "metadata": {},
   "outputs": [
    {
     "name": "stderr",
     "output_type": "stream",
     "text": [
      "9it [02:02, 13.58s/it]\n"
     ]
    },
    {
     "ename": "KeyboardInterrupt",
     "evalue": "",
     "output_type": "error",
     "traceback": [
      "\u001b[1;31m---------------------------------------------------------------------------\u001b[0m",
      "\u001b[1;31mKeyboardInterrupt\u001b[0m                         Traceback (most recent call last)",
      "\u001b[1;32m<ipython-input-9-be6a298081e8>\u001b[0m in \u001b[0;36m<module>\u001b[1;34m\u001b[0m\n\u001b[0;32m      6\u001b[0m \u001b[1;32mfor\u001b[0m \u001b[0mepoch\u001b[0m \u001b[1;32min\u001b[0m \u001b[0mrange\u001b[0m\u001b[1;33m(\u001b[0m\u001b[0mepochs\u001b[0m\u001b[1;33m)\u001b[0m\u001b[1;33m:\u001b[0m\u001b[1;33m\u001b[0m\u001b[1;33m\u001b[0m\u001b[0m\n\u001b[0;32m      7\u001b[0m     \u001b[0mprint\u001b[0m\u001b[1;33m(\u001b[0m\u001b[1;34mf\"epoch: {epoch+1} / {epochs}\"\u001b[0m\u001b[1;33m)\u001b[0m\u001b[1;33m\u001b[0m\u001b[1;33m\u001b[0m\u001b[0m\n\u001b[1;32m----> 8\u001b[1;33m     \u001b[0mtrain_pipeline\u001b[0m\u001b[1;33m.\u001b[0m\u001b[0mtrain\u001b[0m\u001b[1;33m(\u001b[0m\u001b[0mtrain_dataloader\u001b[0m\u001b[1;33m,\u001b[0m \u001b[0mverbose\u001b[0m\u001b[1;33m=\u001b[0m\u001b[1;32mTrue\u001b[0m\u001b[1;33m)\u001b[0m\u001b[1;33m\u001b[0m\u001b[1;33m\u001b[0m\u001b[0m\n\u001b[0m\u001b[0;32m      9\u001b[0m     \u001b[0mtrain_pipeline\u001b[0m\u001b[1;33m.\u001b[0m\u001b[0mevaluate\u001b[0m\u001b[1;33m(\u001b[0m\u001b[0mvalidation_dataloader\u001b[0m\u001b[1;33m,\u001b[0m \u001b[0mverbose\u001b[0m\u001b[1;33m=\u001b[0m\u001b[1;32mTrue\u001b[0m\u001b[1;33m)\u001b[0m\u001b[1;33m\u001b[0m\u001b[1;33m\u001b[0m\u001b[0m\n\u001b[0;32m     10\u001b[0m     \u001b[0mlr_scheduler\u001b[0m\u001b[1;33m.\u001b[0m\u001b[0mstep\u001b[0m\u001b[1;33m(\u001b[0m\u001b[1;33m)\u001b[0m\u001b[1;33m\u001b[0m\u001b[1;33m\u001b[0m\u001b[0m\n",
      "\u001b[1;32mc:\\Users\\user\\Desktop\\AI\\AI paid projects\\first cour\\Object Tracking with YOLOv5\\Guide Wire Tracking\\pipelines\\train.py\u001b[0m in \u001b[0;36mtrain\u001b[1;34m(self, dataloader, verbose)\u001b[0m\n\u001b[0;32m     84\u001b[0m \u001b[1;33m\u001b[0m\u001b[0m\n\u001b[0;32m     85\u001b[0m     \u001b[1;32mdef\u001b[0m \u001b[0mtrain\u001b[0m\u001b[1;33m(\u001b[0m\u001b[0mself\u001b[0m\u001b[1;33m,\u001b[0m \u001b[0mdataloader\u001b[0m\u001b[1;33m:\u001b[0m \u001b[0mDataLoader\u001b[0m\u001b[1;33m,\u001b[0m \u001b[0mverbose\u001b[0m\u001b[1;33m:\u001b[0m \u001b[0mbool\u001b[0m\u001b[1;33m=\u001b[0m\u001b[1;32mFalse\u001b[0m\u001b[1;33m)\u001b[0m \u001b[1;33m->\u001b[0m \u001b[0mTuple\u001b[0m\u001b[1;33m[\u001b[0m\u001b[0mfloat\u001b[0m\u001b[1;33m,\u001b[0m \u001b[0mfloat\u001b[0m\u001b[1;33m,\u001b[0m \u001b[0mfloat\u001b[0m\u001b[1;33m]\u001b[0m\u001b[1;33m:\u001b[0m\u001b[1;33m\u001b[0m\u001b[1;33m\u001b[0m\u001b[0m\n\u001b[1;32m---> 86\u001b[1;33m         \u001b[0mbbox_loss\u001b[0m\u001b[1;33m,\u001b[0m \u001b[0mconfidence_loss\u001b[0m\u001b[1;33m,\u001b[0m \u001b[0mtotal_loss\u001b[0m \u001b[1;33m=\u001b[0m \u001b[0mself\u001b[0m\u001b[1;33m.\u001b[0m\u001b[0m_feed\u001b[0m\u001b[1;33m(\u001b[0m\u001b[0mdataloader\u001b[0m\u001b[1;33m,\u001b[0m \u001b[1;34m\"train\"\u001b[0m\u001b[1;33m,\u001b[0m \u001b[0mverbose\u001b[0m\u001b[1;33m)\u001b[0m\u001b[1;33m\u001b[0m\u001b[1;33m\u001b[0m\u001b[0m\n\u001b[0m\u001b[0;32m     87\u001b[0m         \u001b[1;32mreturn\u001b[0m \u001b[0mbbox_loss\u001b[0m\u001b[1;33m,\u001b[0m \u001b[0mconfidence_loss\u001b[0m\u001b[1;33m,\u001b[0m \u001b[0mtotal_loss\u001b[0m\u001b[1;33m\u001b[0m\u001b[1;33m\u001b[0m\u001b[0m\n\u001b[0;32m     88\u001b[0m \u001b[1;33m\u001b[0m\u001b[0m\n",
      "\u001b[1;32mc:\\Users\\user\\Desktop\\AI\\AI paid projects\\first cour\\Object Tracking with YOLOv5\\Guide Wire Tracking\\pipelines\\train.py\u001b[0m in \u001b[0;36m_feed\u001b[1;34m(self, dataloader, mode, verbose)\u001b[0m\n\u001b[0;32m    108\u001b[0m \u001b[1;33m\u001b[0m\u001b[0m\n\u001b[0;32m    109\u001b[0m             \u001b[1;32mif\u001b[0m \u001b[0mmode\u001b[0m \u001b[1;33m==\u001b[0m \u001b[1;34m\"train\"\u001b[0m\u001b[1;33m:\u001b[0m\u001b[1;33m\u001b[0m\u001b[1;33m\u001b[0m\u001b[0m\n\u001b[1;32m--> 110\u001b[1;33m                 \u001b[0mbatch_total_loss\u001b[0m\u001b[1;33m.\u001b[0m\u001b[0mbackward\u001b[0m\u001b[1;33m(\u001b[0m\u001b[1;33m)\u001b[0m\u001b[1;33m\u001b[0m\u001b[1;33m\u001b[0m\u001b[0m\n\u001b[0m\u001b[0;32m    111\u001b[0m                 \u001b[0mself\u001b[0m\u001b[1;33m.\u001b[0m\u001b[0moptimizer\u001b[0m\u001b[1;33m.\u001b[0m\u001b[0mstep\u001b[0m\u001b[1;33m(\u001b[0m\u001b[1;33m)\u001b[0m\u001b[1;33m\u001b[0m\u001b[1;33m\u001b[0m\u001b[0m\n\u001b[0;32m    112\u001b[0m                 \u001b[0mself\u001b[0m\u001b[1;33m.\u001b[0m\u001b[0moptimizer\u001b[0m\u001b[1;33m.\u001b[0m\u001b[0mzero_grad\u001b[0m\u001b[1;33m(\u001b[0m\u001b[1;33m)\u001b[0m\u001b[1;33m\u001b[0m\u001b[1;33m\u001b[0m\u001b[0m\n",
      "\u001b[1;32mc:\\Users\\user\\AppData\\Local\\Programs\\Python\\Python38\\lib\\site-packages\\torch\\_tensor.py\u001b[0m in \u001b[0;36mbackward\u001b[1;34m(self, gradient, retain_graph, create_graph, inputs)\u001b[0m\n\u001b[0;32m    485\u001b[0m                 \u001b[0minputs\u001b[0m\u001b[1;33m=\u001b[0m\u001b[0minputs\u001b[0m\u001b[1;33m,\u001b[0m\u001b[1;33m\u001b[0m\u001b[1;33m\u001b[0m\u001b[0m\n\u001b[0;32m    486\u001b[0m             )\n\u001b[1;32m--> 487\u001b[1;33m         torch.autograd.backward(\n\u001b[0m\u001b[0;32m    488\u001b[0m             \u001b[0mself\u001b[0m\u001b[1;33m,\u001b[0m \u001b[0mgradient\u001b[0m\u001b[1;33m,\u001b[0m \u001b[0mretain_graph\u001b[0m\u001b[1;33m,\u001b[0m \u001b[0mcreate_graph\u001b[0m\u001b[1;33m,\u001b[0m \u001b[0minputs\u001b[0m\u001b[1;33m=\u001b[0m\u001b[0minputs\u001b[0m\u001b[1;33m\u001b[0m\u001b[1;33m\u001b[0m\u001b[0m\n\u001b[0;32m    489\u001b[0m         )\n",
      "\u001b[1;32mc:\\Users\\user\\AppData\\Local\\Programs\\Python\\Python38\\lib\\site-packages\\torch\\autograd\\__init__.py\u001b[0m in \u001b[0;36mbackward\u001b[1;34m(tensors, grad_tensors, retain_graph, create_graph, grad_variables, inputs)\u001b[0m\n\u001b[0;32m    198\u001b[0m     \u001b[1;31m# some Python versions print out the first line of a multi-line function\u001b[0m\u001b[1;33m\u001b[0m\u001b[1;33m\u001b[0m\u001b[1;33m\u001b[0m\u001b[0m\n\u001b[0;32m    199\u001b[0m     \u001b[1;31m# calls in the traceback and some print out the last line\u001b[0m\u001b[1;33m\u001b[0m\u001b[1;33m\u001b[0m\u001b[1;33m\u001b[0m\u001b[0m\n\u001b[1;32m--> 200\u001b[1;33m     Variable._execution_engine.run_backward(  # Calls into the C++ engine to run the backward pass\n\u001b[0m\u001b[0;32m    201\u001b[0m         \u001b[0mtensors\u001b[0m\u001b[1;33m,\u001b[0m \u001b[0mgrad_tensors_\u001b[0m\u001b[1;33m,\u001b[0m \u001b[0mretain_graph\u001b[0m\u001b[1;33m,\u001b[0m \u001b[0mcreate_graph\u001b[0m\u001b[1;33m,\u001b[0m \u001b[0minputs\u001b[0m\u001b[1;33m,\u001b[0m\u001b[1;33m\u001b[0m\u001b[1;33m\u001b[0m\u001b[0m\n\u001b[0;32m    202\u001b[0m         allow_unreachable=True, accumulate_grad=True)  # Calls into the C++ engine to run the backward pass\n",
      "\u001b[1;31mKeyboardInterrupt\u001b[0m: "
     ]
    }
   ],
   "source": [
    "epochs = 120\n",
    "\n",
    "import warnings\n",
    "warnings.filterwarnings(\"ignore\")\n",
    "\n",
    "for epoch in range(epochs):\n",
    "    print(f\"epoch: {epoch+1} / {epochs}\")\n",
    "    train_pipeline.train(train_dataloader, verbose=True)\n",
    "    train_pipeline.evaluate(validation_dataloader, verbose=True)\n",
    "    lr_scheduler.step()\n",
    "    print(\"-\"*130)\n",
    "\n",
    "train_pipeline.plot_metrics(\"train\")\n",
    "train_pipeline.plot_metrics(\"eval\")"
   ]
  }
 ],
 "metadata": {
  "kernelspec": {
   "display_name": "Python 3",
   "language": "python",
   "name": "python3"
  },
  "language_info": {
   "codemirror_mode": {
    "name": "ipython",
    "version": 3
   },
   "file_extension": ".py",
   "mimetype": "text/x-python",
   "name": "python",
   "nbconvert_exporter": "python",
   "pygments_lexer": "ipython3",
   "version": "3.8.7rc1"
  },
  "orig_nbformat": 4
 },
 "nbformat": 4,
 "nbformat_minor": 2
}
